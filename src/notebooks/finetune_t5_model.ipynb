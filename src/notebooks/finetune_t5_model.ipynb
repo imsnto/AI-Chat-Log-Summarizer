{
  "cells": [
    {
      "cell_type": "markdown",
      "metadata": {
        "id": "yQEy1zHTVUWa"
      },
      "source": [
        "# Tokenizer and Model"
      ]
    },
    {
      "cell_type": "code",
      "execution_count": null,
      "metadata": {
        "id": "zNMIUqEcKsrW"
      },
      "outputs": [],
      "source": [
        "import torch\n",
        "import pandas as pd\n",
        "from datasets import Dataset\n",
        "from sklearn.model_selection import train_test_split\n",
        "from transformers import TrainingArguments, Trainer, T5Tokenizer, T5ForConditionalGeneration\n",
        "\n",
        "tokenizer = T5Tokenizer.from_pretrained('t5-small', legacy=False)\n",
        "model = T5ForConditionalGeneration.from_pretrained(\"t5-small\")\n"
      ]
    },
    {
      "cell_type": "markdown",
      "metadata": {
        "id": "_xcTf-cWVtu4"
      },
      "source": [
        "# Preprocess"
      ]
    },
    {
      "cell_type": "code",
      "execution_count": null,
      "metadata": {
        "id": "LhGtgNk6K70q"
      },
      "outputs": [],
      "source": [
        "\n",
        "def preprocess_function(examples):\n",
        "    inputs = [text for text in examples[\"input_text\"]]\n",
        "    targets = examples[\"target_summary\"]\n",
        "\n",
        "    model_inputs = tokenizer(\n",
        "        inputs,\n",
        "        padding=\"max_length\",\n",
        "        truncation=True,\n",
        "        max_length=512,\n",
        "        return_tensors=\"pt\"\n",
        "    )\n",
        "    labels = tokenizer(\n",
        "        targets,\n",
        "        max_length=128,\n",
        "        truncation=True,\n",
        "        padding=\"max_length\",\n",
        "        return_tensors=\"pt\"\n",
        "    )\n",
        "\n",
        "    model_inputs['labels'] = labels['input_ids']\n",
        "    return model_inputs\n",
        "\n"
      ]
    },
    {
      "cell_type": "markdown",
      "metadata": {
        "id": "jUGDUx__VwtX"
      },
      "source": [
        "# Dataset Load"
      ]
    },
    {
      "cell_type": "code",
      "execution_count": null,
      "metadata": {
        "colab": {
          "base_uri": "https://localhost:8080/",
          "height": 81,
          "referenced_widgets": [
            "a3e334c54bd54e5a833977aa7b2d6f35",
            "4064f334799a491b942d9a21f0a85e2f",
            "d05860a5146d4c9c8f80e5978bb2100d",
            "625ffd9d59334d23b1cdcaa90c874df5",
            "4654d197d36445f889b7e7ff11468a80",
            "27b04562287a4eb6b942faf62328c451",
            "6491a098e04c45ecac77a4929463ebc7",
            "574bd71f345648b6ad9be4e04938d300",
            "71071497d18d4b47a4d6aa9a91557469",
            "e43a2959e91f4c5885112a3521f7124e",
            "a6e9ad57a36f4815880b4f551f8a0293",
            "809a8368e2be4fc6b21138251749aa85",
            "fb460149675a410b84453b677f919655",
            "a542c05932054be9a7d0e335fee7b080",
            "c47c026076804b73907314af900ede6c",
            "2086acc55fc44bcf993c121a22b60aa3",
            "60b910ae0c704e8d89ca4282ca40c218",
            "13a636d1eaba45a2bf220db740ed8bfc",
            "0bb0b697a33f4b8392b1322777de74c5",
            "48f8410d6f8e44cbbb0b7a13b2255099",
            "c4093ddc1adf46ab94c76e664f1d2174",
            "52dbe8382344413fb0f3b945f8fa940f"
          ]
        },
        "id": "3pYyWOVYK-3R",
        "outputId": "48fc4e65-e615-449f-9edd-914d6d7ff901"
      },
      "outputs": [
        {
          "data": {
            "application/vnd.jupyter.widget-view+json": {
              "model_id": "a3e334c54bd54e5a833977aa7b2d6f35",
              "version_major": 2,
              "version_minor": 0
            },
            "text/plain": [
              "Map:   0%|          | 0/236 [00:00<?, ? examples/s]"
            ]
          },
          "metadata": {},
          "output_type": "display_data"
        },
        {
          "data": {
            "application/vnd.jupyter.widget-view+json": {
              "model_id": "809a8368e2be4fc6b21138251749aa85",
              "version_major": 2,
              "version_minor": 0
            },
            "text/plain": [
              "Map:   0%|          | 0/60 [00:00<?, ? examples/s]"
            ]
          },
          "metadata": {},
          "output_type": "display_data"
        }
      ],
      "source": [
        "dataset_path = r\"/content/dataset.csv\"\n",
        "try:\n",
        "    data = pd.read_csv(dataset_path)\n",
        "except FileNotFoundError as e:\n",
        "    raise FileNotFoundError(e)\n",
        "\n",
        "train_data, val_data= train_test_split(data, test_size=0.2, random_state=42)\n",
        "\n",
        "train_dataset = Dataset.from_pandas(train_data)\n",
        "val_dataset = Dataset.from_pandas(val_data)\n",
        "\n",
        "train_dataset = train_dataset.map(preprocess_function, batched=True)\n",
        "val_dataset = val_dataset.map(preprocess_function, batched=True)\n"
      ]
    },
    {
      "cell_type": "markdown",
      "metadata": {
        "id": "qKMJK0uCVzO6"
      },
      "source": [
        "# Finetune"
      ]
    },
    {
      "cell_type": "code",
      "execution_count": null,
      "metadata": {
        "colab": {
          "base_uri": "https://localhost:8080/",
          "height": 1000
        },
        "id": "iNi-NkYULCBP",
        "outputId": "08bbd141-a25c-4050-b759-398e03e8b2e5"
      },
      "outputs": [
        {
          "name": "stderr",
          "output_type": "stream",
          "text": [
            "\u001b[34m\u001b[1mwandb\u001b[0m: \u001b[33mWARNING\u001b[0m The `run_name` is currently set to the same value as `TrainingArguments.output_dir`. If this was not intended, please specify a different run name by setting the `TrainingArguments.run_name` parameter.\n"
          ]
        },
        {
          "data": {
            "application/javascript": [
              "\n",
              "        window._wandbApiKey = new Promise((resolve, reject) => {\n",
              "            function loadScript(url) {\n",
              "            return new Promise(function(resolve, reject) {\n",
              "                let newScript = document.createElement(\"script\");\n",
              "                newScript.onerror = reject;\n",
              "                newScript.onload = resolve;\n",
              "                document.body.appendChild(newScript);\n",
              "                newScript.src = url;\n",
              "            });\n",
              "            }\n",
              "            loadScript(\"https://cdn.jsdelivr.net/npm/postmate/build/postmate.min.js\").then(() => {\n",
              "            const iframe = document.createElement('iframe')\n",
              "            iframe.style.cssText = \"width:0;height:0;border:none\"\n",
              "            document.body.appendChild(iframe)\n",
              "            const handshake = new Postmate({\n",
              "                container: iframe,\n",
              "                url: 'https://wandb.ai/authorize'\n",
              "            });\n",
              "            const timeout = setTimeout(() => reject(\"Couldn't auto authenticate\"), 5000)\n",
              "            handshake.then(function(child) {\n",
              "                child.on('authorize', data => {\n",
              "                    clearTimeout(timeout)\n",
              "                    resolve(data)\n",
              "                });\n",
              "            });\n",
              "            })\n",
              "        });\n",
              "    "
            ],
            "text/plain": [
              "<IPython.core.display.Javascript object>"
            ]
          },
          "metadata": {},
          "output_type": "display_data"
        },
        {
          "name": "stderr",
          "output_type": "stream",
          "text": [
            "\u001b[34m\u001b[1mwandb\u001b[0m: Logging into wandb.ai. (Learn how to deploy a W&B server locally: https://wandb.me/wandb-server)\n",
            "\u001b[34m\u001b[1mwandb\u001b[0m: You can find your API key in your browser here: https://wandb.ai/authorize?ref=models\n",
            "wandb: Paste an API key from your profile and hit enter:"
          ]
        },
        {
          "name": "stdout",
          "output_type": "stream",
          "text": [
            " ··········\n"
          ]
        },
        {
          "name": "stderr",
          "output_type": "stream",
          "text": [
            "\u001b[34m\u001b[1mwandb\u001b[0m: \u001b[33mWARNING\u001b[0m If you're specifying your api key in code, ensure this code is not shared publicly.\n",
            "\u001b[34m\u001b[1mwandb\u001b[0m: \u001b[33mWARNING\u001b[0m Consider setting the WANDB_API_KEY environment variable, or running `wandb login` from the command line.\n",
            "\u001b[34m\u001b[1mwandb\u001b[0m: No netrc file found, creating one.\n",
            "\u001b[34m\u001b[1mwandb\u001b[0m: Appending key for api.wandb.ai to your netrc file: /root/.netrc\n",
            "\u001b[34m\u001b[1mwandb\u001b[0m: Currently logged in as: \u001b[33msolaimanhs26\u001b[0m (\u001b[33msolaimanhs26-bangabandhu-sheikh-mujibur-rahman-science-a\u001b[0m) to \u001b[32mhttps://api.wandb.ai\u001b[0m. Use \u001b[1m`wandb login --relogin`\u001b[0m to force relogin\n"
          ]
        },
        {
          "data": {
            "text/html": [
              "Tracking run with wandb version 0.19.11"
            ],
            "text/plain": [
              "<IPython.core.display.HTML object>"
            ]
          },
          "metadata": {},
          "output_type": "display_data"
        },
        {
          "data": {
            "text/html": [
              "Run data is saved locally in <code>/content/wandb/run-20250519_111125-fbo98an1</code>"
            ],
            "text/plain": [
              "<IPython.core.display.HTML object>"
            ]
          },
          "metadata": {},
          "output_type": "display_data"
        },
        {
          "data": {
            "text/html": [
              "Syncing run <strong><a href='https://wandb.ai/solaimanhs26-bangabandhu-sheikh-mujibur-rahman-science-a/huggingface/runs/fbo98an1' target=\"_blank\">./output</a></strong> to <a href='https://wandb.ai/solaimanhs26-bangabandhu-sheikh-mujibur-rahman-science-a/huggingface' target=\"_blank\">Weights & Biases</a> (<a href='https://wandb.me/developer-guide' target=\"_blank\">docs</a>)<br>"
            ],
            "text/plain": [
              "<IPython.core.display.HTML object>"
            ]
          },
          "metadata": {},
          "output_type": "display_data"
        },
        {
          "data": {
            "text/html": [
              " View project at <a href='https://wandb.ai/solaimanhs26-bangabandhu-sheikh-mujibur-rahman-science-a/huggingface' target=\"_blank\">https://wandb.ai/solaimanhs26-bangabandhu-sheikh-mujibur-rahman-science-a/huggingface</a>"
            ],
            "text/plain": [
              "<IPython.core.display.HTML object>"
            ]
          },
          "metadata": {},
          "output_type": "display_data"
        },
        {
          "data": {
            "text/html": [
              " View run at <a href='https://wandb.ai/solaimanhs26-bangabandhu-sheikh-mujibur-rahman-science-a/huggingface/runs/fbo98an1' target=\"_blank\">https://wandb.ai/solaimanhs26-bangabandhu-sheikh-mujibur-rahman-science-a/huggingface/runs/fbo98an1</a>"
            ],
            "text/plain": [
              "<IPython.core.display.HTML object>"
            ]
          },
          "metadata": {},
          "output_type": "display_data"
        },
        {
          "name": "stderr",
          "output_type": "stream",
          "text": [
            "Passing a tuple of `past_key_values` is deprecated and will be removed in Transformers v4.48.0. You should pass an instance of `EncoderDecoderCache` instead, e.g. `past_key_values=EncoderDecoderCache.from_legacy_cache(past_key_values)`.\n"
          ]
        },
        {
          "data": {
            "text/html": [
              "\n",
              "    <div>\n",
              "      \n",
              "      <progress value='600' max='600' style='width:300px; height:20px; vertical-align: middle;'></progress>\n",
              "      [600/600 07:00, Epoch 20/20]\n",
              "    </div>\n",
              "    <table border=\"1\" class=\"dataframe\">\n",
              "  <thead>\n",
              " <tr style=\"text-align: left;\">\n",
              "      <th>Epoch</th>\n",
              "      <th>Training Loss</th>\n",
              "      <th>Validation Loss</th>\n",
              "    </tr>\n",
              "  </thead>\n",
              "  <tbody>\n",
              "    <tr>\n",
              "      <td>1</td>\n",
              "      <td>0.838200</td>\n",
              "      <td>0.274945</td>\n",
              "    </tr>\n",
              "    <tr>\n",
              "      <td>2</td>\n",
              "      <td>0.186700</td>\n",
              "      <td>0.132694</td>\n",
              "    </tr>\n",
              "    <tr>\n",
              "      <td>3</td>\n",
              "      <td>0.105200</td>\n",
              "      <td>0.066765</td>\n",
              "    </tr>\n",
              "    <tr>\n",
              "      <td>4</td>\n",
              "      <td>0.053100</td>\n",
              "      <td>0.017547</td>\n",
              "    </tr>\n",
              "    <tr>\n",
              "      <td>5</td>\n",
              "      <td>0.018500</td>\n",
              "      <td>0.014634</td>\n",
              "    </tr>\n",
              "    <tr>\n",
              "      <td>6</td>\n",
              "      <td>0.015900</td>\n",
              "      <td>0.014463</td>\n",
              "    </tr>\n",
              "    <tr>\n",
              "      <td>7</td>\n",
              "      <td>0.012500</td>\n",
              "      <td>0.013865</td>\n",
              "    </tr>\n",
              "    <tr>\n",
              "      <td>8</td>\n",
              "      <td>0.012600</td>\n",
              "      <td>0.013666</td>\n",
              "    </tr>\n",
              "    <tr>\n",
              "      <td>9</td>\n",
              "      <td>0.013000</td>\n",
              "      <td>0.013554</td>\n",
              "    </tr>\n",
              "    <tr>\n",
              "      <td>10</td>\n",
              "      <td>0.006000</td>\n",
              "      <td>0.013638</td>\n",
              "    </tr>\n",
              "    <tr>\n",
              "      <td>11</td>\n",
              "      <td>0.007300</td>\n",
              "      <td>0.013440</td>\n",
              "    </tr>\n",
              "    <tr>\n",
              "      <td>12</td>\n",
              "      <td>0.009800</td>\n",
              "      <td>0.013045</td>\n",
              "    </tr>\n",
              "    <tr>\n",
              "      <td>13</td>\n",
              "      <td>0.007600</td>\n",
              "      <td>0.012942</td>\n",
              "    </tr>\n",
              "    <tr>\n",
              "      <td>14</td>\n",
              "      <td>0.007900</td>\n",
              "      <td>0.013030</td>\n",
              "    </tr>\n",
              "    <tr>\n",
              "      <td>15</td>\n",
              "      <td>0.007700</td>\n",
              "      <td>0.013011</td>\n",
              "    </tr>\n",
              "    <tr>\n",
              "      <td>16</td>\n",
              "      <td>0.004500</td>\n",
              "      <td>0.012929</td>\n",
              "    </tr>\n",
              "    <tr>\n",
              "      <td>17</td>\n",
              "      <td>0.004200</td>\n",
              "      <td>0.012855</td>\n",
              "    </tr>\n",
              "    <tr>\n",
              "      <td>18</td>\n",
              "      <td>0.011700</td>\n",
              "      <td>0.012906</td>\n",
              "    </tr>\n",
              "    <tr>\n",
              "      <td>19</td>\n",
              "      <td>0.006800</td>\n",
              "      <td>0.012892</td>\n",
              "    </tr>\n",
              "    <tr>\n",
              "      <td>20</td>\n",
              "      <td>0.008800</td>\n",
              "      <td>0.012955</td>\n",
              "    </tr>\n",
              "  </tbody>\n",
              "</table><p>"
            ],
            "text/plain": [
              "<IPython.core.display.HTML object>"
            ]
          },
          "metadata": {},
          "output_type": "display_data"
        },
        {
          "name": "stderr",
          "output_type": "stream",
          "text": [
            "There were missing keys in the checkpoint model loaded: ['encoder.embed_tokens.weight', 'decoder.embed_tokens.weight', 'lm_head.weight'].\n"
          ]
        },
        {
          "data": {
            "text/plain": [
              "TrainOutput(global_step=600, training_loss=0.23318454765404265, metrics={'train_runtime': 576.58, 'train_samples_per_second': 8.186, 'train_steps_per_second': 1.041, 'total_flos': 638813302947840.0, 'train_loss': 0.23318454765404265, 'epoch': 20.0})"
            ]
          },
          "execution_count": 4,
          "metadata": {},
          "output_type": "execute_result"
        }
      ],
      "source": [
        "\n",
        "training_args = TrainingArguments(\n",
        "    output_dir = './output',\n",
        "    num_train_epochs = 20,\n",
        "    per_device_train_batch_size = 8,\n",
        "    per_device_eval_batch_size = 8,\n",
        "    learning_rate= 1e-4,\n",
        "    eval_strategy='epoch',\n",
        "    save_strategy='epoch',\n",
        "    load_best_model_at_end=True,\n",
        "    logging_dir='./logs',\n",
        "    logging_steps=10,\n",
        "    save_total_limit=1,\n",
        "    #use_cpu=True,\n",
        ")\n",
        "\n",
        "trainer = Trainer(\n",
        "    model = model,\n",
        "    args=training_args,\n",
        "    train_dataset=train_dataset,\n",
        "    eval_dataset=val_dataset,\n",
        "    processing_class = tokenizer\n",
        ")\n",
        "\n",
        "trainer.train()\n"
      ]
    },
    {
      "cell_type": "markdown",
      "metadata": {
        "id": "we1YZ358V42g"
      },
      "source": [
        "# Evaluation"
      ]
    },
    {
      "cell_type": "code",
      "execution_count": null,
      "metadata": {
        "colab": {
          "base_uri": "https://localhost:8080/"
        },
        "id": "XNEhivvhLDZw",
        "outputId": "49143c4f-a1e8-4f34-a483-de9b1ce9a554"
      },
      "outputs": [
        {
          "name": "stdout",
          "output_type": "stream",
          "text": [
            "Sample Prediction: The user asked about blockchain technology and how it works.\n"
          ]
        }
      ],
      "source": [
        "\n",
        "model.eval()\n",
        "sample_input = \"\"\"\n",
        "User: Can you explain what blockchain technology is and how it works in simple terms? I keep hearing about it with cryptocurrencies, but I don’t get the details.\n",
        "AI: Blockchain is a decentralized digital ledger that records transactions across many computers securely. Think of it as a chain of blocks, where each block contains a list of transactions. These blocks are linked using cryptography, ensuring they can’t be altered without changing all subsequent blocks. For cryptocurrencies like Bitcoin, when you send money, the transaction is verified by a network of computers (nodes) through consensus, added to a block, and then added to the blockchain. It’s transparent, secure, and doesn’t rely on a central authority like a bank.\n",
        "\"\"\"\n",
        "sample_encoding = tokenizer(sample_input, max_length=512, padding='max_length', truncation=True, return_tensors='pt')\n",
        "with torch.no_grad():\n",
        "    output = model.generate(sample_encoding['input_ids'].to(model.device), max_length=128)\n",
        "print(\"Sample Prediction:\", tokenizer.decode(output[0], skip_special_tokens=True))"
      ]
    },
    {
      "cell_type": "code",
      "execution_count": null,
      "metadata": {
        "id": "6ZCnUus2E7fV"
      },
      "outputs": [],
      "source": []
    },
    {
      "cell_type": "code",
      "execution_count": null,
      "metadata": {
        "colab": {
          "base_uri": "https://localhost:8080/"
        },
        "id": "AcsKYlcrE7c5",
        "outputId": "e49f408e-6b92-448e-e12c-6a96d7ee30f0"
      },
      "outputs": [
        {
          "name": "stdout",
          "output_type": "stream",
          "text": [
            "Sample Prediction: The user asked how to stay safe online.\n"
          ]
        }
      ],
      "source": [
        "\n",
        "model.eval()\n",
        "sample_input = \"\"\"\n",
        "User: Hey AI, how can I stay safe online?\n",
        "AI: Great question! Start with strong passwords, enable two-factor authentication (2FA), and avoid clicking on suspicious links.\n",
        "User: What’s 2FA?\n",
        "AI: Two-Factor Authentication adds a second layer of security by requiring a one-time code along with your password—usually sent to your phone or email.\n",
        "User: What about phishing?\n",
        "AI: Phishing is a scam where attackers trick you into revealing sensitive information. Be cautious of unexpected emails or messages asking for credentials.\n",
        "User: Should I use antivirus software?\n",
        "AI: Yes, especially on Windows. Keep your operating system and software updated, and use a reliable antivirus tool.\n",
        "User: Is public Wi-Fi dangerous?\n",
        "AI: It can be. Avoid accessing sensitive accounts on public networks, or use a VPN to encrypt your data.\n",
        "User: Noted. Thanks for the tips!\n",
        "AI: You’re welcome! Stay safe and feel free to ask more.\n",
        "\"\"\"\n",
        "sample_encoding = tokenizer(sample_input, max_length=512, padding='max_length', truncation=True, return_tensors='pt')\n",
        "with torch.no_grad():\n",
        "    output = model.generate(sample_encoding['input_ids'].to(model.device), max_length=128)\n",
        "print(\"Sample Prediction:\", tokenizer.decode(output[0], skip_special_tokens=True))"
      ]
    },
    {
      "cell_type": "code",
      "execution_count": null,
      "metadata": {
        "colab": {
          "base_uri": "https://localhost:8080/"
        },
        "id": "5fRU93IyE7XV",
        "outputId": "cb51100a-7401-46e5-cc3f-e227c5df8215"
      },
      "outputs": [
        {
          "name": "stdout",
          "output_type": "stream",
          "text": [
            "Sample Prediction: The user asked about Python and its use.\n"
          ]
        }
      ],
      "source": [
        "\n",
        "model.eval()\n",
        "sample_input = \"\"\"\n",
        "User: Hi, can you tell me about Python?\n",
        "AI: Sure! Python is a popular programming language known for its readability.\n",
        "User: What can I use it for?\n",
        "AI: You can use Python for web development, data analysis, AI, and more.\n",
        "\"\"\"\n",
        "sample_encoding = tokenizer(sample_input, max_length=512, padding='max_length', truncation=True, return_tensors='pt')\n",
        "with torch.no_grad():\n",
        "    output = model.generate(sample_encoding['input_ids'].to(model.device), max_length=128)\n",
        "print(\"Sample Prediction:\", tokenizer.decode(output[0], skip_special_tokens=True))"
      ]
    },
    {
      "cell_type": "code",
      "execution_count": null,
      "metadata": {
        "colab": {
          "base_uri": "https://localhost:8080/"
        },
        "id": "lUsM57lORNWJ",
        "outputId": "f3e8f524-6e38-4576-d788-5531aac0b965"
      },
      "outputs": [
        {
          "name": "stdout",
          "output_type": "stream",
          "text": [
            "Sample Prediction: The user asked about machine learning.\n"
          ]
        }
      ],
      "source": [
        "\n",
        "model.eval()\n",
        "sample_input = \"\"\"\n",
        "User: Hello!\n",
        "AI: Hi! How can I assist you today?\n",
        "User: Can you explain what machine learning is?\n",
        "AI: Certainly! Machine learning is a field of AI that allows systems to learn from data.\n",
        "\"\"\"\n",
        "sample_encoding = tokenizer(sample_input, max_length=512, padding='max_length', truncation=True, return_tensors='pt')\n",
        "with torch.no_grad():\n",
        "    output = model.generate(sample_encoding['input_ids'].to(model.device), max_length=128)\n",
        "print(\"Sample Prediction:\", tokenizer.decode(output[0], skip_special_tokens=True))"
      ]
    },
    {
      "cell_type": "code",
      "execution_count": null,
      "metadata": {
        "colab": {
          "base_uri": "https://localhost:8080/"
        },
        "id": "kU15I_sgRNTl",
        "outputId": "efe878a5-b6fb-4022-cade-a28d6b403255"
      },
      "outputs": [
        {
          "name": "stdout",
          "output_type": "stream",
          "text": [
            "Sample Prediction: The user asked about SQL.\n"
          ]
        }
      ],
      "source": [
        "\n",
        "model.eval()\n",
        "sample_input = \"\"\"\n",
        "User: Hi! Can you help me understand SQL?\n",
        "AI: Hi! SQL (Structured Query Language) is used to interact with databases. You can use it to query, insert, update, and delete data.\n",
        "User: What’s a basic example?\n",
        "AI: A basic query is:\n",
        "SELECT * FROM customers WHERE country = 'USA';\n",
        "It retrieves all customers from the USA.\n",
        "User: What are tables in SQL?\n",
        "AI: Tables are like spreadsheets. Each table has rows (records) and columns (fields).\n",
        "User: Do I need to learn normalization?\n",
        "AI: Yes, it's important for designing efficient databases. It helps reduce redundancy and ensures data integrity.\n",
        "User: Where can I practice SQL?\n",
        "AI: Try platforms like SQLZoo, LeetCode (SQL section), or Mode Analytics' SQL tutorials.\n",
        "User: Thanks! That helps a lot.\n",
        "AI: You're welcome! Practice regularly and you’ll improve quickly.\n",
        "\"\"\"\n",
        "sample_encoding = tokenizer(sample_input, max_length=512, padding='max_length', truncation=True, return_tensors='pt')\n",
        "with torch.no_grad():\n",
        "    output = model.generate(sample_encoding['input_ids'].to(model.device), max_length=128)\n",
        "print(\"Sample Prediction:\", tokenizer.decode(output[0], skip_special_tokens=True))"
      ]
    },
    {
      "cell_type": "code",
      "execution_count": null,
      "metadata": {
        "colab": {
          "base_uri": "https://localhost:8080/"
        },
        "id": "z9kb9gntRNQ1",
        "outputId": "c135191e-2a25-434b-c89b-f8d18c25e6ab"
      },
      "outputs": [
        {
          "data": {
            "text/plain": [
              "21.0"
            ]
          },
          "execution_count": 19,
          "metadata": {},
          "output_type": "execute_result"
        }
      ],
      "source": [
        "5 + 55 / 5+5"
      ]
    },
    {
      "cell_type": "code",
      "execution_count": null,
      "metadata": {
        "id": "j8KA8B68RNNf"
      },
      "outputs": [],
      "source": []
    },
    {
      "cell_type": "markdown",
      "metadata": {
        "id": "Zi8Ddb8LWbIB"
      },
      "source": [
        "# Zip the Checkpoint"
      ]
    },
    {
      "cell_type": "code",
      "execution_count": null,
      "metadata": {
        "colab": {
          "base_uri": "https://localhost:8080/"
        },
        "id": "hOb3RXhKM6JO",
        "outputId": "25201e9e-81db-4057-c126-de630e72caf0"
      },
      "outputs": [
        {
          "name": "stdout",
          "output_type": "stream",
          "text": [
            "  adding: output/checkpoint-510/ (stored 0%)\n",
            "  adding: output/checkpoint-510/model.safetensors (deflated 11%)\n",
            "  adding: output/checkpoint-510/spiece.model (deflated 48%)\n",
            "  adding: output/checkpoint-510/rng_state.pth (deflated 25%)\n",
            "  adding: output/checkpoint-510/generation_config.json (deflated 29%)\n",
            "  adding: output/checkpoint-510/optimizer.pt (deflated 7%)\n",
            "  adding: output/checkpoint-510/added_tokens.json (deflated 83%)\n",
            "  adding: output/checkpoint-510/tokenizer_config.json (deflated 94%)\n",
            "  adding: output/checkpoint-510/config.json (deflated 63%)\n",
            "  adding: output/checkpoint-510/scheduler.pt (deflated 56%)\n",
            "  adding: output/checkpoint-510/trainer_state.json (deflated 82%)\n",
            "  adding: output/checkpoint-510/special_tokens_map.json (deflated 85%)\n",
            "  adding: output/checkpoint-510/training_args.bin (deflated 52%)\n"
          ]
        }
      ],
      "source": [
        "!zip -r t5_finetune_chat-observer.zip ./output/checkpoint-510"
      ]
    },
    {
      "cell_type": "markdown",
      "metadata": {
        "id": "DovwpZEnWeIc"
      },
      "source": [
        "# Download Checkpoint"
      ]
    },
    {
      "cell_type": "code",
      "execution_count": null,
      "metadata": {
        "colab": {
          "base_uri": "https://localhost:8080/",
          "height": 34
        },
        "id": "S-3j3uxhOZKZ",
        "outputId": "481678d3-20e3-4ad5-a2a3-94c262820579"
      },
      "outputs": [
        {
          "data": {
            "application/javascript": [
              "\n",
              "    async function download(id, filename, size) {\n",
              "      if (!google.colab.kernel.accessAllowed) {\n",
              "        return;\n",
              "      }\n",
              "      const div = document.createElement('div');\n",
              "      const label = document.createElement('label');\n",
              "      label.textContent = `Downloading \"${filename}\": `;\n",
              "      div.appendChild(label);\n",
              "      const progress = document.createElement('progress');\n",
              "      progress.max = size;\n",
              "      div.appendChild(progress);\n",
              "      document.body.appendChild(div);\n",
              "\n",
              "      const buffers = [];\n",
              "      let downloaded = 0;\n",
              "\n",
              "      const channel = await google.colab.kernel.comms.open(id);\n",
              "      // Send a message to notify the kernel that we're ready.\n",
              "      channel.send({})\n",
              "\n",
              "      for await (const message of channel.messages) {\n",
              "        // Send a message to notify the kernel that we're ready.\n",
              "        channel.send({})\n",
              "        if (message.buffers) {\n",
              "          for (const buffer of message.buffers) {\n",
              "            buffers.push(buffer);\n",
              "            downloaded += buffer.byteLength;\n",
              "            progress.value = downloaded;\n",
              "          }\n",
              "        }\n",
              "      }\n",
              "      const blob = new Blob(buffers, {type: 'application/binary'});\n",
              "      const a = document.createElement('a');\n",
              "      a.href = window.URL.createObjectURL(blob);\n",
              "      a.download = filename;\n",
              "      div.appendChild(a);\n",
              "      a.click();\n",
              "      div.remove();\n",
              "    }\n",
              "  "
            ],
            "text/plain": [
              "<IPython.core.display.Javascript object>"
            ]
          },
          "metadata": {},
          "output_type": "display_data"
        },
        {
          "data": {
            "application/javascript": [
              "download(\"download_c8556fad-ed0b-4f48-9140-54cba93f1f3d\", \"t5_finetune_chat-observer.zip\", 667855984)"
            ],
            "text/plain": [
              "<IPython.core.display.Javascript object>"
            ]
          },
          "metadata": {},
          "output_type": "display_data"
        }
      ],
      "source": [
        "from google.colab import files\n",
        "files.download('/content/t5_finetune_chat-observer.zip')"
      ]
    },
    {
      "cell_type": "markdown",
      "source": [
        "# Used save checkpoint"
      ],
      "metadata": {
        "id": "dyMFF3OKoxie"
      }
    },
    {
      "cell_type": "code",
      "execution_count": null,
      "metadata": {
        "id": "TuHCZoYKouXh"
      },
      "outputs": [],
      "source": [
        "!unzip best_checkpoint.zip -d './output/Untitled Folder'"
      ]
    },
    {
      "cell_type": "code",
      "execution_count": null,
      "metadata": {
        "id": "owKeVN5yiNf1"
      },
      "outputs": [],
      "source": [
        "from transformers import T5Tokenizer, T5ForConditionalGeneration\n",
        "\n",
        "model_path = '/content/output/Untitled Folder/output/checkpoint-150'\n",
        "\n",
        "model = T5ForConditionalGeneration.from_pretrained(model_path)\n",
        "tokenizer = T5Tokenizer.from_pretrained(model_path)"
      ]
    },
    {
      "cell_type": "code",
      "execution_count": null,
      "metadata": {
        "id": "jhfLOsIfNYHk"
      },
      "outputs": [],
      "source": [
        "model.eval()\n",
        "sample_input = \"\"\"\n",
        "User: What are black holes, and how do scientists detect them? They sound fascinating but confusing.\n",
        "\n",
        "AI: A black hole is a region in space where gravity is so strong that nothing, not even light, can escape. They form when massive stars collapse or through other cosmic events. Scientists detect black holes indirectly, as they’re invisible. They observe effects like the bending of light (gravitational lensing), X-ray emissions from matter falling in, or gravitational waves from black hole mergers, as detected by observatories like LIGO. The Event Horizon Telescope also captured the first image of a black hole’s shadow in 2019.\n",
        "\"\"\"\n",
        "\n",
        "inputs = tokenizer(sample_input, return_tensors=\"pt\")\n",
        "\n",
        "outputs = model(**inputs)"
      ]
    },
    {
      "cell_type": "code",
      "execution_count": null,
      "metadata": {
        "id": "cROkr9b8qCBN"
      },
      "outputs": [],
      "source": []
    },
    {
      "cell_type": "code",
      "execution_count": null,
      "metadata": {
        "id": "V0j8zfFdEajY"
      },
      "outputs": [],
      "source": [
        "!cp -r /content/output/checkpoint-510 /content/model\n"
      ]
    },
    {
      "cell_type": "code",
      "execution_count": null,
      "metadata": {
        "colab": {
          "background_save": true
        },
        "id": "w4n43fpuU8L0"
      },
      "outputs": [],
      "source": [
        "from transformers import T5Tokenizer, T5ForConditionalGeneration\n",
        "\n",
        "model_path = '/content/model/checkpoint-510'\n",
        "\n",
        "model_ = T5ForConditionalGeneration.from_pretrained(model_path)\n",
        "tokenizer_ = T5Tokenizer.from_pretrained(model_path)"
      ]
    }
  ],
  "metadata": {
    "accelerator": "GPU",
    "colab": {
      "gpuType": "T4",
      "provenance": [],
      "toc_visible": true
    },
    "kernelspec": {
      "display_name": "Python 3",
      "name": "python3"
    },
    "language_info": {
      "name": "python"
    },
    "widgets": {
      "application/vnd.jupyter.widget-state+json": {
        "0bb0b697a33f4b8392b1322777de74c5": {
          "model_module": "@jupyter-widgets/base",
          "model_module_version": "1.2.0",
          "model_name": "LayoutModel",
          "state": {
            "_model_module": "@jupyter-widgets/base",
            "_model_module_version": "1.2.0",
            "_model_name": "LayoutModel",
            "_view_count": null,
            "_view_module": "@jupyter-widgets/base",
            "_view_module_version": "1.2.0",
            "_view_name": "LayoutView",
            "align_content": null,
            "align_items": null,
            "align_self": null,
            "border": null,
            "bottom": null,
            "display": null,
            "flex": null,
            "flex_flow": null,
            "grid_area": null,
            "grid_auto_columns": null,
            "grid_auto_flow": null,
            "grid_auto_rows": null,
            "grid_column": null,
            "grid_gap": null,
            "grid_row": null,
            "grid_template_areas": null,
            "grid_template_columns": null,
            "grid_template_rows": null,
            "height": null,
            "justify_content": null,
            "justify_items": null,
            "left": null,
            "margin": null,
            "max_height": null,
            "max_width": null,
            "min_height": null,
            "min_width": null,
            "object_fit": null,
            "object_position": null,
            "order": null,
            "overflow": null,
            "overflow_x": null,
            "overflow_y": null,
            "padding": null,
            "right": null,
            "top": null,
            "visibility": null,
            "width": null
          }
        },
        "13a636d1eaba45a2bf220db740ed8bfc": {
          "model_module": "@jupyter-widgets/controls",
          "model_module_version": "1.5.0",
          "model_name": "DescriptionStyleModel",
          "state": {
            "_model_module": "@jupyter-widgets/controls",
            "_model_module_version": "1.5.0",
            "_model_name": "DescriptionStyleModel",
            "_view_count": null,
            "_view_module": "@jupyter-widgets/base",
            "_view_module_version": "1.2.0",
            "_view_name": "StyleView",
            "description_width": ""
          }
        },
        "2086acc55fc44bcf993c121a22b60aa3": {
          "model_module": "@jupyter-widgets/base",
          "model_module_version": "1.2.0",
          "model_name": "LayoutModel",
          "state": {
            "_model_module": "@jupyter-widgets/base",
            "_model_module_version": "1.2.0",
            "_model_name": "LayoutModel",
            "_view_count": null,
            "_view_module": "@jupyter-widgets/base",
            "_view_module_version": "1.2.0",
            "_view_name": "LayoutView",
            "align_content": null,
            "align_items": null,
            "align_self": null,
            "border": null,
            "bottom": null,
            "display": null,
            "flex": null,
            "flex_flow": null,
            "grid_area": null,
            "grid_auto_columns": null,
            "grid_auto_flow": null,
            "grid_auto_rows": null,
            "grid_column": null,
            "grid_gap": null,
            "grid_row": null,
            "grid_template_areas": null,
            "grid_template_columns": null,
            "grid_template_rows": null,
            "height": null,
            "justify_content": null,
            "justify_items": null,
            "left": null,
            "margin": null,
            "max_height": null,
            "max_width": null,
            "min_height": null,
            "min_width": null,
            "object_fit": null,
            "object_position": null,
            "order": null,
            "overflow": null,
            "overflow_x": null,
            "overflow_y": null,
            "padding": null,
            "right": null,
            "top": null,
            "visibility": null,
            "width": null
          }
        },
        "27b04562287a4eb6b942faf62328c451": {
          "model_module": "@jupyter-widgets/base",
          "model_module_version": "1.2.0",
          "model_name": "LayoutModel",
          "state": {
            "_model_module": "@jupyter-widgets/base",
            "_model_module_version": "1.2.0",
            "_model_name": "LayoutModel",
            "_view_count": null,
            "_view_module": "@jupyter-widgets/base",
            "_view_module_version": "1.2.0",
            "_view_name": "LayoutView",
            "align_content": null,
            "align_items": null,
            "align_self": null,
            "border": null,
            "bottom": null,
            "display": null,
            "flex": null,
            "flex_flow": null,
            "grid_area": null,
            "grid_auto_columns": null,
            "grid_auto_flow": null,
            "grid_auto_rows": null,
            "grid_column": null,
            "grid_gap": null,
            "grid_row": null,
            "grid_template_areas": null,
            "grid_template_columns": null,
            "grid_template_rows": null,
            "height": null,
            "justify_content": null,
            "justify_items": null,
            "left": null,
            "margin": null,
            "max_height": null,
            "max_width": null,
            "min_height": null,
            "min_width": null,
            "object_fit": null,
            "object_position": null,
            "order": null,
            "overflow": null,
            "overflow_x": null,
            "overflow_y": null,
            "padding": null,
            "right": null,
            "top": null,
            "visibility": null,
            "width": null
          }
        },
        "4064f334799a491b942d9a21f0a85e2f": {
          "model_module": "@jupyter-widgets/controls",
          "model_module_version": "1.5.0",
          "model_name": "HTMLModel",
          "state": {
            "_dom_classes": [],
            "_model_module": "@jupyter-widgets/controls",
            "_model_module_version": "1.5.0",
            "_model_name": "HTMLModel",
            "_view_count": null,
            "_view_module": "@jupyter-widgets/controls",
            "_view_module_version": "1.5.0",
            "_view_name": "HTMLView",
            "description": "",
            "description_tooltip": null,
            "layout": "IPY_MODEL_27b04562287a4eb6b942faf62328c451",
            "placeholder": "​",
            "style": "IPY_MODEL_6491a098e04c45ecac77a4929463ebc7",
            "value": "Map: 100%"
          }
        },
        "4654d197d36445f889b7e7ff11468a80": {
          "model_module": "@jupyter-widgets/base",
          "model_module_version": "1.2.0",
          "model_name": "LayoutModel",
          "state": {
            "_model_module": "@jupyter-widgets/base",
            "_model_module_version": "1.2.0",
            "_model_name": "LayoutModel",
            "_view_count": null,
            "_view_module": "@jupyter-widgets/base",
            "_view_module_version": "1.2.0",
            "_view_name": "LayoutView",
            "align_content": null,
            "align_items": null,
            "align_self": null,
            "border": null,
            "bottom": null,
            "display": null,
            "flex": null,
            "flex_flow": null,
            "grid_area": null,
            "grid_auto_columns": null,
            "grid_auto_flow": null,
            "grid_auto_rows": null,
            "grid_column": null,
            "grid_gap": null,
            "grid_row": null,
            "grid_template_areas": null,
            "grid_template_columns": null,
            "grid_template_rows": null,
            "height": null,
            "justify_content": null,
            "justify_items": null,
            "left": null,
            "margin": null,
            "max_height": null,
            "max_width": null,
            "min_height": null,
            "min_width": null,
            "object_fit": null,
            "object_position": null,
            "order": null,
            "overflow": null,
            "overflow_x": null,
            "overflow_y": null,
            "padding": null,
            "right": null,
            "top": null,
            "visibility": null,
            "width": null
          }
        },
        "48f8410d6f8e44cbbb0b7a13b2255099": {
          "model_module": "@jupyter-widgets/controls",
          "model_module_version": "1.5.0",
          "model_name": "ProgressStyleModel",
          "state": {
            "_model_module": "@jupyter-widgets/controls",
            "_model_module_version": "1.5.0",
            "_model_name": "ProgressStyleModel",
            "_view_count": null,
            "_view_module": "@jupyter-widgets/base",
            "_view_module_version": "1.2.0",
            "_view_name": "StyleView",
            "bar_color": null,
            "description_width": ""
          }
        },
        "52dbe8382344413fb0f3b945f8fa940f": {
          "model_module": "@jupyter-widgets/controls",
          "model_module_version": "1.5.0",
          "model_name": "DescriptionStyleModel",
          "state": {
            "_model_module": "@jupyter-widgets/controls",
            "_model_module_version": "1.5.0",
            "_model_name": "DescriptionStyleModel",
            "_view_count": null,
            "_view_module": "@jupyter-widgets/base",
            "_view_module_version": "1.2.0",
            "_view_name": "StyleView",
            "description_width": ""
          }
        },
        "574bd71f345648b6ad9be4e04938d300": {
          "model_module": "@jupyter-widgets/base",
          "model_module_version": "1.2.0",
          "model_name": "LayoutModel",
          "state": {
            "_model_module": "@jupyter-widgets/base",
            "_model_module_version": "1.2.0",
            "_model_name": "LayoutModel",
            "_view_count": null,
            "_view_module": "@jupyter-widgets/base",
            "_view_module_version": "1.2.0",
            "_view_name": "LayoutView",
            "align_content": null,
            "align_items": null,
            "align_self": null,
            "border": null,
            "bottom": null,
            "display": null,
            "flex": null,
            "flex_flow": null,
            "grid_area": null,
            "grid_auto_columns": null,
            "grid_auto_flow": null,
            "grid_auto_rows": null,
            "grid_column": null,
            "grid_gap": null,
            "grid_row": null,
            "grid_template_areas": null,
            "grid_template_columns": null,
            "grid_template_rows": null,
            "height": null,
            "justify_content": null,
            "justify_items": null,
            "left": null,
            "margin": null,
            "max_height": null,
            "max_width": null,
            "min_height": null,
            "min_width": null,
            "object_fit": null,
            "object_position": null,
            "order": null,
            "overflow": null,
            "overflow_x": null,
            "overflow_y": null,
            "padding": null,
            "right": null,
            "top": null,
            "visibility": null,
            "width": null
          }
        },
        "60b910ae0c704e8d89ca4282ca40c218": {
          "model_module": "@jupyter-widgets/base",
          "model_module_version": "1.2.0",
          "model_name": "LayoutModel",
          "state": {
            "_model_module": "@jupyter-widgets/base",
            "_model_module_version": "1.2.0",
            "_model_name": "LayoutModel",
            "_view_count": null,
            "_view_module": "@jupyter-widgets/base",
            "_view_module_version": "1.2.0",
            "_view_name": "LayoutView",
            "align_content": null,
            "align_items": null,
            "align_self": null,
            "border": null,
            "bottom": null,
            "display": null,
            "flex": null,
            "flex_flow": null,
            "grid_area": null,
            "grid_auto_columns": null,
            "grid_auto_flow": null,
            "grid_auto_rows": null,
            "grid_column": null,
            "grid_gap": null,
            "grid_row": null,
            "grid_template_areas": null,
            "grid_template_columns": null,
            "grid_template_rows": null,
            "height": null,
            "justify_content": null,
            "justify_items": null,
            "left": null,
            "margin": null,
            "max_height": null,
            "max_width": null,
            "min_height": null,
            "min_width": null,
            "object_fit": null,
            "object_position": null,
            "order": null,
            "overflow": null,
            "overflow_x": null,
            "overflow_y": null,
            "padding": null,
            "right": null,
            "top": null,
            "visibility": null,
            "width": null
          }
        },
        "625ffd9d59334d23b1cdcaa90c874df5": {
          "model_module": "@jupyter-widgets/controls",
          "model_module_version": "1.5.0",
          "model_name": "HTMLModel",
          "state": {
            "_dom_classes": [],
            "_model_module": "@jupyter-widgets/controls",
            "_model_module_version": "1.5.0",
            "_model_name": "HTMLModel",
            "_view_count": null,
            "_view_module": "@jupyter-widgets/controls",
            "_view_module_version": "1.5.0",
            "_view_name": "HTMLView",
            "description": "",
            "description_tooltip": null,
            "layout": "IPY_MODEL_e43a2959e91f4c5885112a3521f7124e",
            "placeholder": "​",
            "style": "IPY_MODEL_a6e9ad57a36f4815880b4f551f8a0293",
            "value": " 236/236 [00:00&lt;00:00, 415.53 examples/s]"
          }
        },
        "6491a098e04c45ecac77a4929463ebc7": {
          "model_module": "@jupyter-widgets/controls",
          "model_module_version": "1.5.0",
          "model_name": "DescriptionStyleModel",
          "state": {
            "_model_module": "@jupyter-widgets/controls",
            "_model_module_version": "1.5.0",
            "_model_name": "DescriptionStyleModel",
            "_view_count": null,
            "_view_module": "@jupyter-widgets/base",
            "_view_module_version": "1.2.0",
            "_view_name": "StyleView",
            "description_width": ""
          }
        },
        "71071497d18d4b47a4d6aa9a91557469": {
          "model_module": "@jupyter-widgets/controls",
          "model_module_version": "1.5.0",
          "model_name": "ProgressStyleModel",
          "state": {
            "_model_module": "@jupyter-widgets/controls",
            "_model_module_version": "1.5.0",
            "_model_name": "ProgressStyleModel",
            "_view_count": null,
            "_view_module": "@jupyter-widgets/base",
            "_view_module_version": "1.2.0",
            "_view_name": "StyleView",
            "bar_color": null,
            "description_width": ""
          }
        },
        "809a8368e2be4fc6b21138251749aa85": {
          "model_module": "@jupyter-widgets/controls",
          "model_module_version": "1.5.0",
          "model_name": "HBoxModel",
          "state": {
            "_dom_classes": [],
            "_model_module": "@jupyter-widgets/controls",
            "_model_module_version": "1.5.0",
            "_model_name": "HBoxModel",
            "_view_count": null,
            "_view_module": "@jupyter-widgets/controls",
            "_view_module_version": "1.5.0",
            "_view_name": "HBoxView",
            "box_style": "",
            "children": [
              "IPY_MODEL_fb460149675a410b84453b677f919655",
              "IPY_MODEL_a542c05932054be9a7d0e335fee7b080",
              "IPY_MODEL_c47c026076804b73907314af900ede6c"
            ],
            "layout": "IPY_MODEL_2086acc55fc44bcf993c121a22b60aa3"
          }
        },
        "a3e334c54bd54e5a833977aa7b2d6f35": {
          "model_module": "@jupyter-widgets/controls",
          "model_module_version": "1.5.0",
          "model_name": "HBoxModel",
          "state": {
            "_dom_classes": [],
            "_model_module": "@jupyter-widgets/controls",
            "_model_module_version": "1.5.0",
            "_model_name": "HBoxModel",
            "_view_count": null,
            "_view_module": "@jupyter-widgets/controls",
            "_view_module_version": "1.5.0",
            "_view_name": "HBoxView",
            "box_style": "",
            "children": [
              "IPY_MODEL_4064f334799a491b942d9a21f0a85e2f",
              "IPY_MODEL_d05860a5146d4c9c8f80e5978bb2100d",
              "IPY_MODEL_625ffd9d59334d23b1cdcaa90c874df5"
            ],
            "layout": "IPY_MODEL_4654d197d36445f889b7e7ff11468a80"
          }
        },
        "a542c05932054be9a7d0e335fee7b080": {
          "model_module": "@jupyter-widgets/controls",
          "model_module_version": "1.5.0",
          "model_name": "FloatProgressModel",
          "state": {
            "_dom_classes": [],
            "_model_module": "@jupyter-widgets/controls",
            "_model_module_version": "1.5.0",
            "_model_name": "FloatProgressModel",
            "_view_count": null,
            "_view_module": "@jupyter-widgets/controls",
            "_view_module_version": "1.5.0",
            "_view_name": "ProgressView",
            "bar_style": "success",
            "description": "",
            "description_tooltip": null,
            "layout": "IPY_MODEL_0bb0b697a33f4b8392b1322777de74c5",
            "max": 60,
            "min": 0,
            "orientation": "horizontal",
            "style": "IPY_MODEL_48f8410d6f8e44cbbb0b7a13b2255099",
            "value": 60
          }
        },
        "a6e9ad57a36f4815880b4f551f8a0293": {
          "model_module": "@jupyter-widgets/controls",
          "model_module_version": "1.5.0",
          "model_name": "DescriptionStyleModel",
          "state": {
            "_model_module": "@jupyter-widgets/controls",
            "_model_module_version": "1.5.0",
            "_model_name": "DescriptionStyleModel",
            "_view_count": null,
            "_view_module": "@jupyter-widgets/base",
            "_view_module_version": "1.2.0",
            "_view_name": "StyleView",
            "description_width": ""
          }
        },
        "c4093ddc1adf46ab94c76e664f1d2174": {
          "model_module": "@jupyter-widgets/base",
          "model_module_version": "1.2.0",
          "model_name": "LayoutModel",
          "state": {
            "_model_module": "@jupyter-widgets/base",
            "_model_module_version": "1.2.0",
            "_model_name": "LayoutModel",
            "_view_count": null,
            "_view_module": "@jupyter-widgets/base",
            "_view_module_version": "1.2.0",
            "_view_name": "LayoutView",
            "align_content": null,
            "align_items": null,
            "align_self": null,
            "border": null,
            "bottom": null,
            "display": null,
            "flex": null,
            "flex_flow": null,
            "grid_area": null,
            "grid_auto_columns": null,
            "grid_auto_flow": null,
            "grid_auto_rows": null,
            "grid_column": null,
            "grid_gap": null,
            "grid_row": null,
            "grid_template_areas": null,
            "grid_template_columns": null,
            "grid_template_rows": null,
            "height": null,
            "justify_content": null,
            "justify_items": null,
            "left": null,
            "margin": null,
            "max_height": null,
            "max_width": null,
            "min_height": null,
            "min_width": null,
            "object_fit": null,
            "object_position": null,
            "order": null,
            "overflow": null,
            "overflow_x": null,
            "overflow_y": null,
            "padding": null,
            "right": null,
            "top": null,
            "visibility": null,
            "width": null
          }
        },
        "c47c026076804b73907314af900ede6c": {
          "model_module": "@jupyter-widgets/controls",
          "model_module_version": "1.5.0",
          "model_name": "HTMLModel",
          "state": {
            "_dom_classes": [],
            "_model_module": "@jupyter-widgets/controls",
            "_model_module_version": "1.5.0",
            "_model_name": "HTMLModel",
            "_view_count": null,
            "_view_module": "@jupyter-widgets/controls",
            "_view_module_version": "1.5.0",
            "_view_name": "HTMLView",
            "description": "",
            "description_tooltip": null,
            "layout": "IPY_MODEL_c4093ddc1adf46ab94c76e664f1d2174",
            "placeholder": "​",
            "style": "IPY_MODEL_52dbe8382344413fb0f3b945f8fa940f",
            "value": " 60/60 [00:00&lt;00:00, 342.06 examples/s]"
          }
        },
        "d05860a5146d4c9c8f80e5978bb2100d": {
          "model_module": "@jupyter-widgets/controls",
          "model_module_version": "1.5.0",
          "model_name": "FloatProgressModel",
          "state": {
            "_dom_classes": [],
            "_model_module": "@jupyter-widgets/controls",
            "_model_module_version": "1.5.0",
            "_model_name": "FloatProgressModel",
            "_view_count": null,
            "_view_module": "@jupyter-widgets/controls",
            "_view_module_version": "1.5.0",
            "_view_name": "ProgressView",
            "bar_style": "success",
            "description": "",
            "description_tooltip": null,
            "layout": "IPY_MODEL_574bd71f345648b6ad9be4e04938d300",
            "max": 236,
            "min": 0,
            "orientation": "horizontal",
            "style": "IPY_MODEL_71071497d18d4b47a4d6aa9a91557469",
            "value": 236
          }
        },
        "e43a2959e91f4c5885112a3521f7124e": {
          "model_module": "@jupyter-widgets/base",
          "model_module_version": "1.2.0",
          "model_name": "LayoutModel",
          "state": {
            "_model_module": "@jupyter-widgets/base",
            "_model_module_version": "1.2.0",
            "_model_name": "LayoutModel",
            "_view_count": null,
            "_view_module": "@jupyter-widgets/base",
            "_view_module_version": "1.2.0",
            "_view_name": "LayoutView",
            "align_content": null,
            "align_items": null,
            "align_self": null,
            "border": null,
            "bottom": null,
            "display": null,
            "flex": null,
            "flex_flow": null,
            "grid_area": null,
            "grid_auto_columns": null,
            "grid_auto_flow": null,
            "grid_auto_rows": null,
            "grid_column": null,
            "grid_gap": null,
            "grid_row": null,
            "grid_template_areas": null,
            "grid_template_columns": null,
            "grid_template_rows": null,
            "height": null,
            "justify_content": null,
            "justify_items": null,
            "left": null,
            "margin": null,
            "max_height": null,
            "max_width": null,
            "min_height": null,
            "min_width": null,
            "object_fit": null,
            "object_position": null,
            "order": null,
            "overflow": null,
            "overflow_x": null,
            "overflow_y": null,
            "padding": null,
            "right": null,
            "top": null,
            "visibility": null,
            "width": null
          }
        },
        "fb460149675a410b84453b677f919655": {
          "model_module": "@jupyter-widgets/controls",
          "model_module_version": "1.5.0",
          "model_name": "HTMLModel",
          "state": {
            "_dom_classes": [],
            "_model_module": "@jupyter-widgets/controls",
            "_model_module_version": "1.5.0",
            "_model_name": "HTMLModel",
            "_view_count": null,
            "_view_module": "@jupyter-widgets/controls",
            "_view_module_version": "1.5.0",
            "_view_name": "HTMLView",
            "description": "",
            "description_tooltip": null,
            "layout": "IPY_MODEL_60b910ae0c704e8d89ca4282ca40c218",
            "placeholder": "​",
            "style": "IPY_MODEL_13a636d1eaba45a2bf220db740ed8bfc",
            "value": "Map: 100%"
          }
        }
      }
    }
  },
  "nbformat": 4,
  "nbformat_minor": 0
}